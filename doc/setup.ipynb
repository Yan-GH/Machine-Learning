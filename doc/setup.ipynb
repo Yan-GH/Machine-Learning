{
 "cells": [
  {
   "cell_type": "markdown",
   "metadata": {},
   "source": [
    "# Software Installation\n",
    "In order to compile and execute Python code that makes use of TensorFlow for deep learning, we need to accomplish the installations below:\n",
    "* Python\n",
    "* TensorFlow\n",
    "* some IDE (like Jupyter, Spyder, PyCharm and others)"
   ]
  },
  {
   "cell_type": "markdown",
   "metadata": {},
   "source": [
    "## Installing Python, Jupyter and Spyder\n",
    "1. install the latest version of <a href=\"https://docs.conda.io/en/latest/miniconda.html\" target=\"_blank\">MiniConda</a>. Miniconda is the minimal set of features from the extensive Anaconda Python distribution and it includes many of the data science related packages that are needed in ML\n",
    "2. install Jupyter and Spyder into your base Python environment with the following commands:\n",
    "```\n",
    "conda install -y jupyter\n",
    "conda install -y spyder\n",
    "```"
   ]
  },
  {
   "cell_type": "markdown",
   "metadata": {},
   "source": [
    "## Installing TensorFlow\n",
    "1. install NVIDIA softwares required by Tensorflow 2.1 following the instructions at <a href=\"https://www.tensorflow.org/install/gpu#software_requirements\" target=\"_blank\">this link</a> before installing tensorflow-gpu\n",
    "    * NVIDIA GPU drivers - CUDA 10.1 requires 418.x or higher\n",
    "    * CUDA Toolkit — TensorFlow supports CUDA 10.1 (TensorFlow >= 2.1.0)\n",
    "    * cuDNN SDK (>= 7.6)\n",
    "    \n",
    "2.  We will create a Python 3.7 environment just for TensorFlow 2.1 which currently support Python 3.5 - 3.8\n",
    "(**IMPORTANT** TensorFlow is incompatible with latest Python versions. Usually, we will need to stay one version back from the latest Python to maximize compatibility with standard machine learning packages.)\n",
    "\n",
    "    1) install all of the needed TensorFlow and machine learning packages with an Anaconda YAML installation script (like **tensorflow-gpu.yml**) which can be downloaded from here (to the same directory \"C:\\Users\\\\[username\\]\":\n",
    "    * [TensorFlow Environment Setup Script: tensorflow.yml](https://raw.githubusercontent.com/Yan-GH/Machine-Learning/master/tensorflow.yml)\n",
    "    * [TensorFlow Environment Setup Script for GPU: tensorflow-gpu.yml](https://raw.githubusercontent.com/Yan-GH/Machine-Learning/master/tensorflow-gpu.yml)\n",
    "\n",
    "    2) create a new environment **MyTensorflow** by running the following command from a terminal prompt\n",
    "\n",
    "    ```\n",
    "    conda env create -v -f tensorflow-gpu.yml\n",
    "    ```\n",
    "    to enter/exit this environment, you must use the following commands\n",
    "    ```\n",
    "    conda activate MyTensorflow\n",
    "    conda deactivate\n",
    "    ```\n",
    "    \n",
    "    3) link the new **MyTensorflow** environment to Jupyter with the command below so that you can choose it as a Kernal. Always make sure to run your Jupyter notebooks from your 3.7 kernel\n",
    "    ```\n",
    "    python -m ipykernel install --user --name MyTensorflow --display-name \"Python 3.7 (tensorflow)\"\n",
    "    ```\n",
    "    At this point, we have a working Python environment for Tensorflow.\n",
    "    \n",
    "    4) install spyder kernel and change Spyder environment with the new **MyTensorflow** environment following the steps below:\n",
    "    - activate MyTensonflow environment\n",
    "    - install the `spyder-kernels` package with the command `conda install spyder-kernels`\n",
    "    - launch Spyder, navigate to `Preferences > Python Interpreter > Use the following interpreter` and paste the path returned by running the command <br>\n",
    "    \n",
    "        `python -c \"import sys; print(sys.executable)\"` <br>\n",
    "        \n",
    "    (e.g. `D:\\Work\\miniconda3\\envs\\MyTensorflow\\python.exe` since I installed miniconda under the path `D:\\Work\\`)\n",
    "    \n",
    "    - start a new IPython console in Spypder. All packages installed in `MyTensorflow` environment should be available there\n",
    "    \n",
    "3. validate if tensorflow-gpu is properly working in the new environment in two ways:\n",
    "    * run the code [TensorFlow Environment Setup Script: test_tensorflow-gpu.py](https://raw.githubusercontent.com/Yan-GH/Machine-Learning/master/doc/test_tensorflow-gpu.py) in Spyder\n",
    "    or\n",
    "    * run this Jupyter notebook script with Jupyter Notebook (MyTensorflow) we made in step 2-3) above"
   ]
  },
  {
   "cell_type": "code",
   "execution_count": 3,
   "metadata": {},
   "outputs": [
    {
     "name": "stdout",
     "output_type": "stream",
     "text": [
      "Tensor Flow Version: 2.1.0\n",
      "Keras Version: 2.2.4-tf\n",
      "\n",
      "Python 3.7.7 (default, May  6 2020, 11:45:54) [MSC v.1916 64 bit (AMD64)]\n",
      "Pandas 1.0.5\n",
      "Scikit-Learn 0.23.1\n",
      "GPU is available\n"
     ]
    }
   ],
   "source": [
    "import sys\n",
    "\n",
    "import tensorflow.keras\n",
    "import pandas as pd\n",
    "import sklearn as sk\n",
    "import tensorflow as tf\n",
    "\n",
    "print(f\"Tensor Flow Version: {tf.__version__}\")\n",
    "print(f\"Keras Version: {tensorflow.keras.__version__}\")\n",
    "print()\n",
    "print(f\"Python {sys.version}\")\n",
    "print(f\"Pandas {pd.__version__}\")\n",
    "print(f\"Scikit-Learn {sk.__version__}\")\n",
    "print(\"GPU is\", \"available\" if tf.config.list_physical_devices('GPU') else \"NOT AVAILABLE\")"
   ]
  },
  {
   "cell_type": "markdown",
   "metadata": {},
   "source": []
  }
 ],
 "metadata": {
  "kernelspec": {
   "display_name": "Python 3",
   "language": "python",
   "name": "python3"
  },
  "language_info": {
   "codemirror_mode": {
    "name": "ipython",
    "version": 3
   },
   "file_extension": ".py",
   "mimetype": "text/x-python",
   "name": "python",
   "nbconvert_exporter": "python",
   "pygments_lexer": "ipython3",
   "version": "3.7.7"
  }
 },
 "nbformat": 4,
 "nbformat_minor": 4
}
